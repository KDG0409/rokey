
{
"cells": [
{"cell_type": "markdown", "source": ["# EDA Sample Notebook"], "metadata": {}},
{"cell_type": "code", "execution_count": null, "metadata": {}, "outputs": [],
"source": ["import pandas as pd
", "df = pd.read_csv('../data/상가업소정보_전국.csv')
", "df.head()"]}
],
"metadata": {},
"nbformat": 4,
"nbformat_minor": 2
}
